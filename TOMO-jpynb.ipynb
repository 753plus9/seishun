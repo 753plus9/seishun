{
 "cells": [
  {
   "cell_type": "code",
   "execution_count": 1,
   "metadata": {},
   "outputs": [],
   "source": [
    "#、「Streamlit」というPythonのライブラリを使ってSQLiteデータベースにデータを保存し、ウェブアプリとしてデータを操作する仕組みを構築する\n",
    "import streamlit as st\n",
    "import sqlite3\n",
    "from datetime import date"
   ]
  },
  {
   "cell_type": "code",
   "execution_count": 2,
   "metadata": {},
   "outputs": [],
   "source": [
    "# データベースへの接続（database.dbという名前のファイルに保存される。ファイルが無ければ作成される）\n",
    "conn = sqlite3.connect(\"database.db\")\n",
    "cur = conn.cursor()"
   ]
  },
  {
   "cell_type": "code",
   "execution_count": 3,
   "metadata": {},
   "outputs": [],
   "source": [
    "# userという名前のテーブルを作成。すでにテーブルが存在すれば作成されない。idは自動で増加させる。nameや評価などを保存する列をつくる\n",
    "# movie_day(映画を見た日) name(映画名) release_date(公開日) Director(監督) hyouka(自分の★評価) comment（フリーコメント）\n",
    "cur.execute(\"\"\"\n",
    "CREATE TABLE IF NOT EXISTS users (\n",
    "    id INTEGER PRIMARY KEY AUTOINCREMENT,\n",
    "    movie_day TEXT,\n",
    "    name TEXT,\n",
    "    release_date TEXT,\n",
    "    Director TEXT,\n",
    "    hyouka TEXT,\n",
    "    comment TEXT\n",
    ")\n",
    "\"\"\")\n",
    "conn.commit() #データベースの変更を確定させ"
   ]
  },
  {
   "cell_type": "code",
   "execution_count": 4,
   "metadata": {},
   "outputs": [
    {
     "name": "stderr",
     "output_type": "stream",
     "text": [
      "2024-12-13 16:53:37.615 WARNING streamlit.runtime.scriptrunner_utils.script_run_context: Thread 'MainThread': missing ScriptRunContext! This warning can be ignored when running in bare mode.\n",
      "2024-12-13 16:53:37.957 \n",
      "  \u001b[33m\u001b[1mWarning:\u001b[0m to view this Streamlit app on a browser, run it with the following\n",
      "  command:\n",
      "\n",
      "    streamlit run c:\\Users\\twata\\AppData\\Local\\Programs\\Python\\Python310\\lib\\site-packages\\ipykernel_launcher.py [ARGUMENTS]\n",
      "2024-12-13 16:53:37.958 Thread 'MainThread': missing ScriptRunContext! This warning can be ignored when running in bare mode.\n"
     ]
    },
    {
     "data": {
      "text/plain": [
       "DeltaGenerator()"
      ]
     },
     "execution_count": 4,
     "metadata": {},
     "output_type": "execute_result"
    }
   ],
   "source": [
    "# StreamlitでUIを作成。タイトル作成\n",
    "st.title(\"SQLite Write Example\")"
   ]
  },
  {
   "cell_type": "code",
   "execution_count": 5,
   "metadata": {},
   "outputs": [
    {
     "name": "stderr",
     "output_type": "stream",
     "text": [
      "2024-12-13 16:53:37.988 Thread 'MainThread': missing ScriptRunContext! This warning can be ignored when running in bare mode.\n",
      "2024-12-13 16:53:37.989 Thread 'MainThread': missing ScriptRunContext! This warning can be ignored when running in bare mode.\n"
     ]
    },
    {
     "data": {
      "text/plain": [
       "DeltaGenerator()"
      ]
     },
     "execution_count": 5,
     "metadata": {},
     "output_type": "execute_result"
    }
   ],
   "source": [
    "# 入力欄の例の部分の色を薄くする簡単なCSS　（Placeholderとして変数設定）\n",
    "st.markdown(\n",
    "    \"\"\"\n",
    "    <style>\n",
    "    input::placeholder {\n",
    "        color: #d3d3d3;\n",
    "    }\n",
    "    </style>\n",
    "    \"\"\",\n",
    "    unsafe_allow_html=True\n",
    ")\n"
   ]
  },
  {
   "cell_type": "code",
   "execution_count": 6,
   "metadata": {},
   "outputs": [
    {
     "name": "stderr",
     "output_type": "stream",
     "text": [
      "2024-12-13 16:53:38.004 Thread 'MainThread': missing ScriptRunContext! This warning can be ignored when running in bare mode.\n",
      "2024-12-13 16:53:38.004 Thread 'MainThread': missing ScriptRunContext! This warning can be ignored when running in bare mode.\n",
      "2024-12-13 16:53:38.005 Thread 'MainThread': missing ScriptRunContext! This warning can be ignored when running in bare mode.\n",
      "2024-12-13 16:53:38.007 Thread 'MainThread': missing ScriptRunContext! This warning can be ignored when running in bare mode.\n",
      "2024-12-13 16:53:38.008 Session state does not function when running a script without `streamlit run`\n",
      "2024-12-13 16:53:38.011 Thread 'MainThread': missing ScriptRunContext! This warning can be ignored when running in bare mode.\n",
      "2024-12-13 16:53:38.012 Thread 'MainThread': missing ScriptRunContext! This warning can be ignored when running in bare mode.\n",
      "2024-12-13 16:53:38.013 Thread 'MainThread': missing ScriptRunContext! This warning can be ignored when running in bare mode.\n",
      "2024-12-13 16:53:38.014 Thread 'MainThread': missing ScriptRunContext! This warning can be ignored when running in bare mode.\n",
      "2024-12-13 16:53:38.015 Thread 'MainThread': missing ScriptRunContext! This warning can be ignored when running in bare mode.\n",
      "2024-12-13 16:53:38.017 Thread 'MainThread': missing ScriptRunContext! This warning can be ignored when running in bare mode.\n",
      "2024-12-13 16:53:38.018 Thread 'MainThread': missing ScriptRunContext! This warning can be ignored when running in bare mode.\n",
      "2024-12-13 16:53:38.019 Thread 'MainThread': missing ScriptRunContext! This warning can be ignored when running in bare mode.\n",
      "2024-12-13 16:53:38.020 Thread 'MainThread': missing ScriptRunContext! This warning can be ignored when running in bare mode.\n",
      "2024-12-13 16:53:38.021 Thread 'MainThread': missing ScriptRunContext! This warning can be ignored when running in bare mode.\n",
      "2024-12-13 16:53:38.021 Thread 'MainThread': missing ScriptRunContext! This warning can be ignored when running in bare mode.\n",
      "2024-12-13 16:53:38.022 Thread 'MainThread': missing ScriptRunContext! This warning can be ignored when running in bare mode.\n",
      "2024-12-13 16:53:38.023 Thread 'MainThread': missing ScriptRunContext! This warning can be ignored when running in bare mode.\n",
      "2024-12-13 16:53:38.025 Thread 'MainThread': missing ScriptRunContext! This warning can be ignored when running in bare mode.\n",
      "2024-12-13 16:53:38.026 Thread 'MainThread': missing ScriptRunContext! This warning can be ignored when running in bare mode.\n",
      "2024-12-13 16:53:38.028 Thread 'MainThread': missing ScriptRunContext! This warning can be ignored when running in bare mode.\n",
      "2024-12-13 16:53:38.030 Thread 'MainThread': missing ScriptRunContext! This warning can be ignored when running in bare mode.\n",
      "2024-12-13 16:53:38.030 Thread 'MainThread': missing ScriptRunContext! This warning can be ignored when running in bare mode.\n",
      "2024-12-13 16:53:38.032 Thread 'MainThread': missing ScriptRunContext! This warning can be ignored when running in bare mode.\n",
      "2024-12-13 16:53:38.034 Thread 'MainThread': missing ScriptRunContext! This warning can be ignored when running in bare mode.\n",
      "2024-12-13 16:53:38.035 Thread 'MainThread': missing ScriptRunContext! This warning can be ignored when running in bare mode.\n",
      "2024-12-13 16:53:38.036 Thread 'MainThread': missing ScriptRunContext! This warning can be ignored when running in bare mode.\n",
      "2024-12-13 16:53:38.037 Thread 'MainThread': missing ScriptRunContext! This warning can be ignored when running in bare mode.\n",
      "2024-12-13 16:53:38.038 Thread 'MainThread': missing ScriptRunContext! This warning can be ignored when running in bare mode.\n",
      "2024-12-13 16:53:38.038 Thread 'MainThread': missing ScriptRunContext! This warning can be ignored when running in bare mode.\n",
      "2024-12-13 16:53:38.040 Thread 'MainThread': missing ScriptRunContext! This warning can be ignored when running in bare mode.\n",
      "2024-12-13 16:53:38.041 Thread 'MainThread': missing ScriptRunContext! This warning can be ignored when running in bare mode.\n",
      "2024-12-13 16:53:38.042 Thread 'MainThread': missing ScriptRunContext! This warning can be ignored when running in bare mode.\n",
      "2024-12-13 16:53:38.043 Thread 'MainThread': missing ScriptRunContext! This warning can be ignored when running in bare mode.\n",
      "2024-12-13 16:53:38.044 Thread 'MainThread': missing ScriptRunContext! This warning can be ignored when running in bare mode.\n",
      "2024-12-13 16:53:38.045 Thread 'MainThread': missing ScriptRunContext! This warning can be ignored when running in bare mode.\n",
      "2024-12-13 16:53:38.046 Thread 'MainThread': missing ScriptRunContext! This warning can be ignored when running in bare mode.\n",
      "2024-12-13 16:53:38.047 Thread 'MainThread': missing ScriptRunContext! This warning can be ignored when running in bare mode.\n"
     ]
    }
   ],
   "source": [
    "# streamlitで映画名入力欄作成\n",
    "name_input = st.text_input(\"映画名\",value=\"例）トップガン\")\n",
    "# streamlitで公開日入力欄作成\n",
    "release_date_input = st.text_input(\"公開日(YYYY/MM/DD)\",value=\"例）1996/03/10\") #文字列で公開日を入力\n",
    "# streamlitで監督入力欄作成\n",
    "Director_input = st.text_input(\"監督\",value=\"例）殿\")\n",
    "# 映画を見た日をカレンダーで選択（デフォルトは今日にして、カレンダーから選べるようにする）\n",
    "movie_day_input = st.date_input(\"映画を見た日\", value=date.today())\n",
    "\n",
    "# ★の評価を選択する機能を作る\n",
    "selected_star = st.selectbox(\n",
    "    \"評価を選んでください\",\n",
    "    [\"★☆☆☆☆\", \"★★☆☆☆\", \"★★★☆☆\", \"★★★★☆\", \"★★★★★\"],\n",
    "    index=0  # 初期値を「1つ星」に設定\n",
    ")\n",
    "# 選択した★を表示\n",
    "st.markdown(f\"あなたの評価は: **{selected_star}** です！\")\n",
    "\n",
    "\n",
    "# streamlitで感想入力\n",
    "comment_input = st.text_input(\"感想コメント\",value=\"\")\n"
   ]
  },
  {
   "cell_type": "code",
   "execution_count": 7,
   "metadata": {},
   "outputs": [
    {
     "name": "stderr",
     "output_type": "stream",
     "text": [
      "2024-12-13 16:53:38.068 Thread 'MainThread': missing ScriptRunContext! This warning can be ignored when running in bare mode.\n",
      "2024-12-13 16:53:38.069 Thread 'MainThread': missing ScriptRunContext! This warning can be ignored when running in bare mode.\n",
      "2024-12-13 16:53:38.070 Thread 'MainThread': missing ScriptRunContext! This warning can be ignored when running in bare mode.\n",
      "2024-12-13 16:53:38.070 Thread 'MainThread': missing ScriptRunContext! This warning can be ignored when running in bare mode.\n",
      "2024-12-13 16:53:38.071 Thread 'MainThread': missing ScriptRunContext! This warning can be ignored when running in bare mode.\n"
     ]
    }
   ],
   "source": [
    "# データベースに保存　st.button(\"Add to Database\")：ボタンをクリックすると以下の処理が実行される\n",
    "# name_inputが空でない場合は入力内容を挿入（INSERT)  cur.executeはデータベースにデータを追加するSQL文\n",
    "# conn.commit()はデータベースに変更を保存。成功した場合はst.success、失敗した場合はst.warningで警告を出す\n",
    "if st.button(\"Add to Database\"):\n",
    "    if not name_input:\n",
    "        st.warning(\"映画名を入力してください。\")\n",
    "    elif not release_date_input:\n",
    "        st.warning(\"公開日を入力してください。\")\n",
    "    elif not Director_input:\n",
    "        st.warning(\"監督名を入力してください。\")\n",
    "    else:\n",
    "        comment = comment_input or \"\" # コメントが空の場合は空文字列を挿入\n",
    "        \n",
    "        # DBに挿入        \n",
    "        cur.execute(\"INSERT INTO users (movie_day, name, release_date, Director, hyouka, comment) VALUES (?, ?, ?, ?, ?, ?)\", \n",
    "                    (\n",
    "                        str(movie_day_input), \n",
    "                        name_input, \n",
    "                        release_date_input, \n",
    "                        Director_input, \n",
    "                        selected_star, \n",
    "                        comment_input if comment_input else \"\", #感想コメントだけは必須ではなく任意設定\n",
    "                        ),\n",
    "                    )\n",
    "        conn.commit()\n",
    "        st.success(f\"'{name_input}' was added to the database!\")\n"
   ]
  },
  {
   "cell_type": "code",
   "execution_count": 8,
   "metadata": {},
   "outputs": [
    {
     "name": "stderr",
     "output_type": "stream",
     "text": [
      "2024-12-13 16:53:38.088 Thread 'MainThread': missing ScriptRunContext! This warning can be ignored when running in bare mode.\n",
      "2024-12-13 16:53:38.090 Thread 'MainThread': missing ScriptRunContext! This warning can be ignored when running in bare mode.\n",
      "2024-12-13 16:53:38.091 Thread 'MainThread': missing ScriptRunContext! This warning can be ignored when running in bare mode.\n",
      "2024-12-13 16:53:38.092 Thread 'MainThread': missing ScriptRunContext! This warning can be ignored when running in bare mode.\n",
      "2024-12-13 16:53:40.323 Thread 'MainThread': missing ScriptRunContext! This warning can be ignored when running in bare mode.\n",
      "2024-12-13 16:53:40.325 Thread 'MainThread': missing ScriptRunContext! This warning can be ignored when running in bare mode.\n"
     ]
    }
   ],
   "source": [
    "# データベース内容の表示　cur.execute(\"SELECT * FROM users\")：usersテーブルの全データを取得\n",
    "# cur.fetchall()：取得したデータをリスト形式で格納。st.write(rows)：データベースに保存されているデータを画面に表示します。\n",
    "st.write(\"## Current Database Entries\")\n",
    "cur.execute(\"SELECT * FROM users\")\n",
    "rows = cur.fetchall()\n",
    "st.write(rows)"
   ]
  }
 ],
 "metadata": {
  "kernelspec": {
   "display_name": "Python 3",
   "language": "python",
   "name": "python3"
  },
  "language_info": {
   "codemirror_mode": {
    "name": "ipython",
    "version": 3
   },
   "file_extension": ".py",
   "mimetype": "text/x-python",
   "name": "python",
   "nbconvert_exporter": "python",
   "pygments_lexer": "ipython3",
   "version": "3.10.11"
  }
 },
 "nbformat": 4,
 "nbformat_minor": 2
}
